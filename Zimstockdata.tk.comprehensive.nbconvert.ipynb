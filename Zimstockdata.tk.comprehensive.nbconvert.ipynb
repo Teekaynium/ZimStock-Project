{
 "cells": [
  {
   "cell_type": "code",
   "execution_count": 1,
   "metadata": {
    "colab": {
     "base_uri": "https://localhost:8080/"
    },
    "execution": {
     "iopub.execute_input": "2025-09-12T15:37:25.477281Z",
     "iopub.status.busy": "2025-09-12T15:37:25.476789Z",
     "iopub.status.idle": "2025-09-12T15:37:26.275160Z",
     "shell.execute_reply": "2025-09-12T15:37:26.274433Z"
    },
    "id": "bkiwHgyr18yY",
    "outputId": "aa87ecc4-7fbb-45cf-fd5d-83dac97710f3"
   },
   "outputs": [
    {
     "name": "stdout",
     "output_type": "stream",
     "text": [
      "Requirement already satisfied: schedule in /opt/hostedtoolcache/Python/3.8.18/x64/lib/python3.8/site-packages (1.2.2)\r\n"
     ]
    },
    {
     "name": "stdout",
     "output_type": "stream",
     "text": [
      "Note: you may need to restart the kernel to use updated packages.\n"
     ]
    }
   ],
   "source": [
    "pip install schedule"
   ]
  },
  {
   "cell_type": "code",
   "execution_count": 2,
   "metadata": {
    "execution": {
     "iopub.execute_input": "2025-09-12T15:37:26.277441Z",
     "iopub.status.busy": "2025-09-12T15:37:26.277224Z",
     "iopub.status.idle": "2025-09-12T15:37:27.065305Z",
     "shell.execute_reply": "2025-09-12T15:37:27.064496Z"
    }
   },
   "outputs": [
    {
     "name": "stdout",
     "output_type": "stream",
     "text": [
      "Requirement already satisfied: lxml in /opt/hostedtoolcache/Python/3.8.18/x64/lib/python3.8/site-packages (6.0.1)\r\n"
     ]
    },
    {
     "name": "stdout",
     "output_type": "stream",
     "text": [
      "Note: you may need to restart the kernel to use updated packages.\n"
     ]
    }
   ],
   "source": [
    "pip install lxml"
   ]
  },
  {
   "cell_type": "code",
   "execution_count": 3,
   "metadata": {
    "execution": {
     "iopub.execute_input": "2025-09-12T15:37:27.067643Z",
     "iopub.status.busy": "2025-09-12T15:37:27.067430Z",
     "iopub.status.idle": "2025-09-12T15:37:27.862850Z",
     "shell.execute_reply": "2025-09-12T15:37:27.862105Z"
    }
   },
   "outputs": [
    {
     "name": "stdout",
     "output_type": "stream",
     "text": [
      "Requirement already satisfied: html5lib in /opt/hostedtoolcache/Python/3.8.18/x64/lib/python3.8/site-packages (1.1)\r\n",
      "Requirement already satisfied: six>=1.9 in /opt/hostedtoolcache/Python/3.8.18/x64/lib/python3.8/site-packages (from html5lib) (1.17.0)\r\n",
      "Requirement already satisfied: webencodings in /opt/hostedtoolcache/Python/3.8.18/x64/lib/python3.8/site-packages (from html5lib) (0.5.1)\r\n"
     ]
    },
    {
     "name": "stdout",
     "output_type": "stream",
     "text": [
      "Note: you may need to restart the kernel to use updated packages.\n"
     ]
    }
   ],
   "source": [
    "pip install html5lib"
   ]
  },
  {
   "cell_type": "code",
   "execution_count": 4,
   "metadata": {
    "execution": {
     "iopub.execute_input": "2025-09-12T15:37:27.865354Z",
     "iopub.status.busy": "2025-09-12T15:37:27.864936Z",
     "iopub.status.idle": "2025-09-12T15:37:28.165380Z",
     "shell.execute_reply": "2025-09-12T15:37:28.164739Z"
    },
    "id": "HwKH6crbKh6E"
   },
   "outputs": [],
   "source": [
    "import requests\n",
    "import pandas as pd\n",
    "import datetime\n",
    "import pytz\n",
    "import schedule\n",
    "import time\n",
    "from datetime import datetime\n",
    "from io import StringIO\n",
    "import os\n"
   ]
  },
  {
   "cell_type": "code",
   "execution_count": 5,
   "metadata": {
    "execution": {
     "iopub.execute_input": "2025-09-12T15:37:28.168136Z",
     "iopub.status.busy": "2025-09-12T15:37:28.167657Z",
     "iopub.status.idle": "2025-09-12T15:37:28.171077Z",
     "shell.execute_reply": "2025-09-12T15:37:28.170384Z"
    },
    "id": "OzZsaUk5KkQD"
   },
   "outputs": [],
   "source": [
    "url = \"https://www.zse.co.zw/price-sheet/\"\n",
    "url2 = \"https://zimpricecheck.com/price-updates/official-and-black-market-exchange-rates/?srsltid=AfmBOoo-30J1RAcbr6OMk7Z-R0rUF_sH7WBp97Qt1O3C4FrP8n7cXhj_\"\n",
    "url3 = \"https://www.vfex.exchange/price-sheet/\""
   ]
  },
  {
   "cell_type": "code",
   "execution_count": 6,
   "metadata": {
    "execution": {
     "iopub.execute_input": "2025-09-12T15:37:28.173203Z",
     "iopub.status.busy": "2025-09-12T15:37:28.172787Z",
     "iopub.status.idle": "2025-09-12T15:37:28.180364Z",
     "shell.execute_reply": "2025-09-12T15:37:28.179693Z"
    },
    "id": "fbQINTP9KtLM"
   },
   "outputs": [],
   "source": [
    "def get_todays_data_zse():\n",
    "    \"\"\" function to extract Zim Stock Exchange daily data\"\"\"\n",
    "    response = requests.get(url)\n",
    "    data = pd.read_html(StringIO(response.text))\n",
    "    df = pd.DataFrame(data[0])\n",
    "    df.columns = df.iloc[0]\n",
    "    df = df[1:]\n",
    "    df = df.dropna()\n",
    "    return df\n",
    "\n",
    "def get_open_price_zse():\n",
    "    \"\"\" function to create dataframe from extracted data,\n",
    "    specifically detailing open price figures.\"\"\"\n",
    "    df = get_todays_data_zse()\n",
    "    open_price = df[['Company Name','Opening Price']].T\n",
    "    open_price.columns  = open_price.iloc[0]\n",
    "    open_price = open_price[1:]\n",
    "    open_price.index.name = 'Date'\n",
    "    open_price = open_price.rename(\n",
    "      index={open_price.index[0]: datetime.now(pytz.timezone('Africa/Harare'))})\n",
    "    return open_price\n",
    "\n",
    "def get_close_price_zse():\n",
    "    \"\"\" function to create dataframe from extracted data,\n",
    "    specifically detailing open price figures.\"\"\"\n",
    "    df = get_todays_data_zse()\n",
    "    close_price = df[['Company Name','Closing Price']].T\n",
    "    close_price.columns  = close_price.iloc[0]\n",
    "    close_price = close_price[1:]\n",
    "    close_price.index.name = 'Date'\n",
    "    close_price = close_price.rename(\n",
    "      index={close_price.index[0]: datetime.now(pytz.timezone('Africa/Harare'))})\n",
    "    return close_price\n",
    "\n",
    "def get_vol_traded_zse():\n",
    "    \"\"\" function to create dataframe from extracted data,\n",
    "    specifically detailing open price figures.\"\"\"\n",
    "    df = get_todays_data_zse()\n",
    "    vol_traded = df[['Company Name','Total Traded Volume']].T\n",
    "    vol_traded.columns  = vol_traded.iloc[0]\n",
    "    vol_traded = vol_traded[1:]\n",
    "    vol_traded.index.name = 'Date'\n",
    "    vol_traded = vol_traded.rename(\n",
    "      index={vol_traded.index[0]: datetime.now(pytz.timezone('Africa/Harare'))})\n",
    "    return vol_traded\n",
    "\n"
   ]
  },
  {
   "cell_type": "code",
   "execution_count": 7,
   "metadata": {
    "execution": {
     "iopub.execute_input": "2025-09-12T15:37:28.182459Z",
     "iopub.status.busy": "2025-09-12T15:37:28.182098Z",
     "iopub.status.idle": "2025-09-12T15:37:28.189045Z",
     "shell.execute_reply": "2025-09-12T15:37:28.188368Z"
    }
   },
   "outputs": [],
   "source": [
    "def get_todays_data_vic():\n",
    "    \"\"\" function to extract Vic Falls Stock Exchange daily data\"\"\"\n",
    "    response = requests.get(url3)\n",
    "    data = pd.read_html(StringIO(response.text))\n",
    "    df = pd.DataFrame(data[0])\n",
    "    df.columns = df.iloc[0]\n",
    "    df = df[1:]\n",
    "    df = df.dropna()\n",
    "    return df\n",
    "\n",
    "def get_open_price_vic():\n",
    "    \"\"\" function to create dataframe from extracted data,\n",
    "    specifically detailing open price figures.\"\"\"\n",
    "    df = get_todays_data_vic()\n",
    "    open_price = df[['Company Name','Opening Price']].T\n",
    "    open_price.columns  = open_price.iloc[0]\n",
    "    open_price = open_price[1:]\n",
    "    open_price.index.name = 'Date'\n",
    "    open_price = open_price.rename(\n",
    "      index={open_price.index[0]: datetime.now(pytz.timezone('Africa/Harare'))})\n",
    "    return open_price\n",
    "\n",
    "def get_close_price_vic():\n",
    "    \"\"\" function to create dataframe from extracted data,\n",
    "    specifically detailing open price figures.\"\"\"\n",
    "    df = get_todays_data_vic()\n",
    "    close_price = df[['Company Name','Closing Price']].T\n",
    "    close_price.columns  = close_price.iloc[0]\n",
    "    close_price = close_price[1:]\n",
    "    close_price.index.name = 'Date'\n",
    "    close_price = close_price.rename(\n",
    "      index={close_price.index[0]: datetime.now(pytz.timezone('Africa/Harare'))})\n",
    "    return close_price\n",
    "\n",
    "def get_vol_traded_vic():\n",
    "    \"\"\" function to create dataframe from extracted data,\n",
    "    specifically detailing open price figures.\"\"\"\n",
    "    df = get_todays_data_vic()\n",
    "    vol_traded = df[['Company Name','Total Traded Volume']].T\n",
    "    vol_traded.columns  = vol_traded.iloc[0]\n",
    "    vol_traded = vol_traded[1:]\n",
    "    vol_traded.index.name = 'Date'\n",
    "    vol_traded = vol_traded.rename(\n",
    "      index={vol_traded.index[0]: datetime.now(pytz.timezone('Africa/Harare'))})\n",
    "    return vol_traded\n",
    "\n"
   ]
  },
  {
   "cell_type": "code",
   "execution_count": 8,
   "metadata": {
    "colab": {
     "base_uri": "https://localhost:8080/"
    },
    "execution": {
     "iopub.execute_input": "2025-09-12T15:37:28.191118Z",
     "iopub.status.busy": "2025-09-12T15:37:28.190736Z",
     "iopub.status.idle": "2025-09-12T15:37:28.197092Z",
     "shell.execute_reply": "2025-09-12T15:37:28.196536Z"
    },
    "id": "3vv2noyKKz_c",
    "outputId": "29d3a9fc-4e9d-4f6d-d09a-6c62e9855c15"
   },
   "outputs": [],
   "source": [
    "## this functions are to get daily exchnage rates\n",
    "\n",
    "def get_rates():\n",
    "    \"\"\" function to create dataframe from extracted data,\n",
    "    specifically detailing exchange rate figures.\"\"\"\n",
    "    response = requests.get(url2)\n",
    "    data = pd.read_html(StringIO(response.text))\n",
    "    df = pd.DataFrame(data[0])\n",
    "\n",
    "    # Example data\n",
    "\n",
    "    # Extract the numeric part\n",
    "    df['value'] = df['Value'].str.extract(r'(\\d+\\.?\\d*)').astype(float)\n",
    "    \n",
    "    df = df.drop(columns = ['Value'], axis = 1)\n",
    "    target_rates = [\n",
    "    '1 USD to ZiG',\n",
    "    '1 USD to ZiG Lowest Informal Sector Rate',\n",
    "    '1 USD to ZiG Highest Informal Sector Rate']\n",
    "\n",
    "    # Filter the dataframe\n",
    "    filtered_rates = df[df['Rate'].isin(target_rates)]\n",
    "\n",
    "    \n",
    "    \"\"\"\n",
    "    Converts the new rates dataframe to match the structure of the base dataframe.\n",
    "\n",
    "    Returns a one-row dataframe with columns: \n",
    "    Date, USA DOLLAR, Lowest Informal Sector Rate, Highest Informal Sector Rate\n",
    "    \"\"\"\n",
    "    # Get today's date\n",
    "    today = pd.to_datetime(datetime.today().date())\n",
    "\n",
    "    # Extract the required rates\n",
    "    try:\n",
    "        usd_rate = filtered_rates.loc[filtered_rates['Rate'] == '1 USD to ZiG', 'value'].values[0]\n",
    "    except IndexError:\n",
    "        usd_rate = pd.NA  # If not found, leave as missing\n",
    "\n",
    "    try:\n",
    "        lowest_rate = filtered_rates.loc[filtered_rates['Rate'] == '1 USD to ZiG Lowest Informal Sector Rate', 'value'].values[0]\n",
    "    except IndexError:\n",
    "        lowest_rate = pd.NA\n",
    "\n",
    "    try:\n",
    "        highest_rate = filtered_rates.loc[filtered_rates['Rate'] == '1 USD to ZiG Highest Informal Sector Rate', 'value'].values[0]\n",
    "    except IndexError:\n",
    "        highest_rate = pd.NA\n",
    "\n",
    "    # Build the new dataframe in the required structure\n",
    "    rates = pd.DataFrame([{\n",
    "        'Date': datetime.now(pytz.timezone('Africa/Harare')),\n",
    "        'USA DOLLAR': usd_rate,\n",
    "        'Lowest Informal Sector Rate': lowest_rate,\n",
    "        'Highest Informal Sector Rate': highest_rate\n",
    "    }])\n",
    "\n",
    "    return rates\n",
    "\n",
    "\n",
    "\n"
   ]
  },
  {
   "cell_type": "code",
   "execution_count": 9,
   "metadata": {
    "execution": {
     "iopub.execute_input": "2025-09-12T15:37:28.199182Z",
     "iopub.status.busy": "2025-09-12T15:37:28.198721Z",
     "iopub.status.idle": "2025-09-12T15:37:28.201811Z",
     "shell.execute_reply": "2025-09-12T15:37:28.201167Z"
    },
    "jupyter": {
     "source_hidden": true
    }
   },
   "outputs": [],
   "source": [
    "# # code to retrieve existing json files with Zim Stock Data for updating\n",
    "# open_json_zse = pd.read_json('/Users/teekaynium/Desktop/open_price_zse.json', orient = 'split')\n",
    "# close_json_zse = pd.read_json('/Users/teekaynium/Desktop/close_price_zse.json', orient = 'split')\n",
    "# vol_json_zse = pd.read_json('/Users/teekaynium/Desktop/vol_traded_zse.json', orient = 'split')\n",
    "# rates_json = pd.read_json('/Users/teekaynium/Desktop/rates.json', orient = 'split')\n",
    "# open_json_vic = pd.read_json('/Users/teekaynium/Desktop/open_price_vic.json', orient = 'split')\n",
    "# close_json_vic = pd.read_json('/Users/teekaynium/Desktop/close_price_vic.json', orient = 'split')\n",
    "# vol_json_vic = pd.read_json('/Users/teekaynium/Desktop/vol_traded_vic.json', orient = 'split')"
   ]
  },
  {
   "cell_type": "code",
   "execution_count": 10,
   "metadata": {
    "colab": {
     "base_uri": "https://localhost:8080/",
     "height": 266
    },
    "execution": {
     "iopub.execute_input": "2025-09-12T15:37:28.203759Z",
     "iopub.status.busy": "2025-09-12T15:37:28.203565Z",
     "iopub.status.idle": "2025-09-12T15:37:28.281915Z",
     "shell.execute_reply": "2025-09-12T15:37:28.281156Z"
    },
    "id": "bCqR_jiuQrRv",
    "outputId": "0ffb84b6-ffd2-4871-fd14-4c6aae2483f5",
    "scrolled": true
   },
   "outputs": [],
   "source": [
    "# code to retrieve existing json files with Zim Stock Data for updating\n",
    "open_json_zse = pd.read_json('archive-single-file/open_price_zse.json', orient = 'split')\n",
    "close_json_zse = pd.read_json('archive-single-file/close_price_zse.json', orient = 'split')\n",
    "vol_json_zse = pd.read_json('archive-single-file/vol_traded_zse.json', orient = 'split')\n",
    "rates_json = pd.read_json('archive-single-file/rates.json', orient = 'split')\n",
    "open_json_vic = pd.read_json('archive-single-file/open_price_vic.json', orient = 'split')\n",
    "close_json_vic = pd.read_json('archive-single-file/close_price_vic.json', orient = 'split')\n",
    "vol_json_vic = pd.read_json('archive-single-file/vol_traded_vic.json', orient = 'split')"
   ]
  },
  {
   "cell_type": "code",
   "execution_count": 11,
   "metadata": {
    "colab": {
     "base_uri": "https://localhost:8080/",
     "height": 266
    },
    "execution": {
     "iopub.execute_input": "2025-09-12T15:37:28.284381Z",
     "iopub.status.busy": "2025-09-12T15:37:28.284180Z",
     "iopub.status.idle": "2025-09-12T15:37:28.289020Z",
     "shell.execute_reply": "2025-09-12T15:37:28.288457Z"
    },
    "id": "oXB2mwx-LKmE",
    "outputId": "e25323de-b0fe-4520-9869-02dda7996c73"
   },
   "outputs": [],
   "source": [
    "#this is the code that needs to run everyday\n",
    "def update_data():\n",
    "    \"\"\" this function updates the daily extracted data onto the existing dataframe\"\"\"\n",
    "\n",
    "    # ZSE update\n",
    "    open_price_zse = pd.concat([open_json_zse, get_open_price_zse()], axis=0) # Update the variables\n",
    "    close_price_zse = pd.concat([close_json_zse, get_close_price_zse()], axis=0)\n",
    "    vol_traded_zse = pd.concat([vol_json_zse, get_vol_traded_zse()], axis=0)\n",
    "\n",
    "    # Exchange rate update\n",
    "    rates = pd.concat([rates_json, get_rates()], axis=0)\n",
    "\n",
    "    # VFEX update\n",
    "    open_price_vic = pd.concat([open_json_vic, get_open_price_vic()], axis=0) # Update the variables\n",
    "    close_price_vic = pd.concat([close_json_vic, get_close_price_vic()], axis=0)\n",
    "    vol_traded_vic = pd.concat([vol_json_vic, get_vol_traded_vic()], axis=0)\n",
    "    \n",
    "    return open_price_zse, close_price_zse, vol_traded_zse, rates, open_price_vic, close_price_vic, vol_traded_vic"
   ]
  },
  {
   "cell_type": "code",
   "execution_count": 12,
   "metadata": {
    "colab": {
     "base_uri": "https://localhost:8080/",
     "height": 266
    },
    "execution": {
     "iopub.execute_input": "2025-09-12T15:37:28.291063Z",
     "iopub.status.busy": "2025-09-12T15:37:28.290647Z",
     "iopub.status.idle": "2025-09-12T15:40:50.788849Z",
     "shell.execute_reply": "2025-09-12T15:40:50.788275Z"
    },
    "id": "wkX0GzJpMlP8",
    "outputId": "fec70af2-21c3-4946-df3e-118e28ce5983",
    "scrolled": true
   },
   "outputs": [],
   "source": [
    "def save_data(open_price_zse: pd.DataFrame, close_price_zse: pd.DataFrame, vol_traded_zse: pd.DataFrame, rates: pd.DataFrame,\n",
    "              open_price_vic: pd.DataFrame, close_price_vic: pd.DataFrame, vol_traded_vic: pd.DataFrame):\n",
    "    \"\"\" function to save updated dataframes as json files\"\"\"\n",
    "    # Save the DataFrames to JSON files with the timestamped directory\n",
    "    # ZSE update\n",
    "    open_price_zse.to_json('archive-single-file/open_price_zse.json', orient='split', date_format='iso')\n",
    "    close_price_zse.to_json('archive-single-file/close_price_zse.json', orient='split', date_format='iso')\n",
    "    vol_traded_zse.to_json('archive-single-file/vol_traded_zse.json', orient='split', date_format='iso')\n",
    "\n",
    "    # Exchange rates update\n",
    "    rates.to_json('archive-single-file/rates.json', orient='split', date_format='iso')\n",
    "\n",
    "    # VFEX update\n",
    "    open_price_vic.to_json('archive-single-file/open_price_vic.json', orient='split', date_format='iso')\n",
    "    close_price_vic.to_json('archive-single-file/close_price_vic.json', orient='split', date_format='iso')\n",
    "    vol_traded_vic.to_json('archive-single-file/vol_traded_vic.json', orient='split', date_format='iso')\n",
    "    \n",
    "\n",
    "save_data(update_data()[0], update_data()[1] , update_data()[2], update_data()[3], update_data()[4] , update_data()[5], update_data()[6])"
   ]
  },
  {
   "cell_type": "code",
   "execution_count": null,
   "metadata": {
    "colab": {
     "base_uri": "https://localhost:8080/",
     "height": 245
    },
    "id": "0g7KmjyNM5Ow",
    "outputId": "35593e15-1d55-417c-986d-518ba88c1d9b"
   },
   "outputs": [],
   "source": []
  },
  {
   "cell_type": "code",
   "execution_count": 13,
   "metadata": {
    "execution": {
     "iopub.execute_input": "2025-09-12T15:40:50.791347Z",
     "iopub.status.busy": "2025-09-12T15:40:50.790936Z",
     "iopub.status.idle": "2025-09-12T15:40:50.794395Z",
     "shell.execute_reply": "2025-09-12T15:40:50.793732Z"
    },
    "jupyter": {
     "source_hidden": true
    }
   },
   "outputs": [],
   "source": [
    "# def save_data(open_price_zse: pd.DataFrame, close_price_zse: pd.DataFrame, vol_traded_zse: pd.DataFrame, rates: pd.DataFrame,\n",
    "#               open_price_vic: pd.DataFrame, close_price_vic: pd.DataFrame, vol_traded_vic: pd.DataFrame):\n",
    "#     \"\"\" function to save updated dataframes as json files\"\"\"\n",
    "#     # Save the DataFrames to JSON files with the timestamped directory\n",
    "#     # ZSE update\n",
    "#     open_price_zse.to_json('/Users/teekaynium/Desktop/open_price_zse.json', orient='split', date_format='iso')\n",
    "#     close_price_zse.to_json('/Users/teekaynium/Desktop/close_price_zse.json', orient='split', date_format='iso')\n",
    "#     vol_traded_zse.to_json('/Users/teekaynium/Desktop/vol_traded_zse.json', orient='split', date_format='iso')\n",
    "\n",
    "#     # Exchange rates update\n",
    "#     rates.to_json('/Users/teekaynium/Desktop/rates.json', orient='split', date_format='iso')\n",
    "\n",
    "#     # VFEX update\n",
    "#     open_price_vic.to_json('/Users/teekaynium/Desktop/open_price_vic.json', orient='split', date_format='iso')\n",
    "#     close_price_vic.to_json('/Users/teekaynium/Desktop/close_price_vic.json', orient='split', date_format='iso')\n",
    "#     vol_traded_vic.to_json('/Users/teekaynium/Desktop/vol_traded_vic.json', orient='split', date_format='iso')\n",
    "    \n",
    "\n",
    "# save_data(update_data()[0], update_data()[1] , update_data()[2], update_data()[3], update_data()[4] , update_data()[5], update_data()[6])"
   ]
  },
  {
   "cell_type": "code",
   "execution_count": 14,
   "metadata": {
    "execution": {
     "iopub.execute_input": "2025-09-12T15:40:50.796348Z",
     "iopub.status.busy": "2025-09-12T15:40:50.795958Z",
     "iopub.status.idle": "2025-09-12T15:40:50.799172Z",
     "shell.execute_reply": "2025-09-12T15:40:50.798534Z"
    },
    "jupyter": {
     "source_hidden": true
    }
   },
   "outputs": [],
   "source": [
    "# def save_data(rates: pd.DataFrame, open_price_vic: pd.DataFrame, close_price_vic: pd.DataFrame, vol_traded_vic: pd.DataFrame):\n",
    "#     \"\"\" function to save updated dataframes as json files\"\"\"\n",
    "#     # # Save the DataFrames to JSON files with the timestamped directory\n",
    "#     # # ZSE update\n",
    "#     # open_price_zse.to_json('/Users/teekaynium/Desktop/open_price_zse.json', orient='split', date_format='iso')\n",
    "#     # close_price_zse.to_json('/Users/teekaynium/Desktop/close_price_zse.json', orient='split', date_format='iso')\n",
    "#     # vol_traded_zse.to_json('/Users/teekaynium/Desktop/vol_traded_zse.json', orient='split', date_format='iso')\n",
    "\n",
    "#     # Exchange rates update\n",
    "#     rates.to_json('/Users/teekaynium/Desktop/rates.json', orient='split', date_format='iso')\n",
    "\n",
    "#     # VFEX update\n",
    "#     open_price_vic.to_json('/Users/teekaynium/Desktop/open_price_vic.json', orient='split', date_format='iso')\n",
    "#     close_price_vic.to_json('/Users/teekaynium/Desktop/close_price_vic.json', orient='split', date_format='iso')\n",
    "#     vol_traded_vic.to_json('/Users/teekaynium/Desktop/vol_traded_vic.json', orient='split', date_format='iso')\n",
    "    \n",
    "\n",
    "# save_data(get_rates(), get_open_price_vic(), get_open_price_vic() , get_open_price_vic())"
   ]
  },
  {
   "cell_type": "code",
   "execution_count": null,
   "metadata": {},
   "outputs": [],
   "source": []
  },
  {
   "cell_type": "code",
   "execution_count": null,
   "metadata": {},
   "outputs": [],
   "source": []
  },
  {
   "cell_type": "code",
   "execution_count": null,
   "metadata": {},
   "outputs": [],
   "source": []
  },
  {
   "cell_type": "code",
   "execution_count": null,
   "metadata": {},
   "outputs": [],
   "source": []
  },
  {
   "cell_type": "code",
   "execution_count": null,
   "metadata": {},
   "outputs": [],
   "source": []
  },
  {
   "cell_type": "code",
   "execution_count": null,
   "metadata": {},
   "outputs": [],
   "source": []
  }
 ],
 "metadata": {
  "colab": {
   "provenance": []
  },
  "kernelspec": {
   "display_name": "Python 3",
   "language": "python",
   "name": "python3"
  },
  "language_info": {
   "codemirror_mode": {
    "name": "ipython",
    "version": 3
   },
   "file_extension": ".py",
   "mimetype": "text/x-python",
   "name": "python",
   "nbconvert_exporter": "python",
   "pygments_lexer": "ipython3",
   "version": "3.8.18"
  }
 },
 "nbformat": 4,
 "nbformat_minor": 4
}
