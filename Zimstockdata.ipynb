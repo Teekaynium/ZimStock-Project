{
 "cells": [
  {
   "cell_type": "code",
   "execution_count": 29,
   "metadata": {
    "colab": {
     "base_uri": "https://localhost:8080/"
    },
    "id": "bkiwHgyr18yY",
    "outputId": "aa87ecc4-7fbb-45cf-fd5d-83dac97710f3"
   },
   "outputs": [
    {
     "name": "stdout",
     "output_type": "stream",
     "text": [
      "Requirement already satisfied: schedule in /opt/anaconda3/lib/python3.11/site-packages (1.2.2)\n",
      "Note: you may need to restart the kernel to use updated packages.\n"
     ]
    }
   ],
   "source": [
    "pip install schedule"
   ]
  },
  {
   "cell_type": "code",
   "execution_count": 63,
   "metadata": {
    "id": "HwKH6crbKh6E"
   },
   "outputs": [],
   "source": [
    "import requests\n",
    "import pandas as pd\n",
    "import datetime\n",
    "import pytz\n",
    "import schedule\n",
    "import time\n",
    "from datetime import datetime"
   ]
  },
  {
   "cell_type": "code",
   "execution_count": 64,
   "metadata": {
    "id": "OzZsaUk5KkQD"
   },
   "outputs": [],
   "source": [
    "url = \"https://www.zse.co.zw/price-sheet/\""
   ]
  },
  {
   "cell_type": "code",
   "execution_count": 65,
   "metadata": {
    "id": "fbQINTP9KtLM"
   },
   "outputs": [],
   "source": [
    "def get_todays_data():\n",
    "  response = requests.get(url)\n",
    "  data = pd.read_html(response.text)\n",
    "  df = pd.DataFrame(data[0])\n",
    "  df.columns = df.iloc[0]\n",
    "  df = df[1:]\n",
    "  df = df.dropna()\n",
    "  return df\n",
    "\n",
    "def get_open_price():\n",
    "  df = get_todays_data()\n",
    "  open_price = df[['Company Name','Opening Price']].T\n",
    "  open_price.columns  = open_price.iloc[0]\n",
    "  open_price = open_price[1:]\n",
    "  open_price.index.name = 'Date'\n",
    "  open_price = open_price.rename(index={open_price.index[0]: datetime.now(pytz.timezone('Africa/Harare'))})\n",
    "  return open_price\n",
    "\n",
    "def get_close_price():\n",
    "  df = get_todays_data()\n",
    "  close_price = df[['Company Name','Closing Price']].T\n",
    "  close_price.columns  = close_price.iloc[0]\n",
    "  close_price = close_price[1:]\n",
    "  close_price.index.name = 'Date'\n",
    "  close_price = close_price.rename(index={close_price.index[0]: datetime.now(pytz.timezone('Africa/Harare'))})\n",
    "  return close_price\n",
    "\n",
    "def get_vol_traded():\n",
    "  df = get_todays_data()\n",
    "  vol_traded = df[['Company Name','Total Traded Volume']].T\n",
    "  vol_traded.columns  = vol_traded.iloc[0]\n",
    "  vol_traded = vol_traded[1:]\n",
    "  vol_traded.index.name = 'Date'\n",
    "  vol_traded = vol_traded.rename(index={vol_traded.index[0]: datetime.now(pytz.timezone('Africa/Harare'))})\n",
    "  return vol_traded"
   ]
  },
  {
   "cell_type": "code",
   "execution_count": null,
   "metadata": {
    "colab": {
     "base_uri": "https://localhost:8080/"
    },
    "id": "3vv2noyKKz_c",
    "outputId": "29d3a9fc-4e9d-4f6d-d09a-6c62e9855c15"
   },
   "outputs": [
    {
     "name": "stderr",
     "output_type": "stream",
     "text": [
      "/var/folders/7f/3tsf9r4d1sqd62b89lyh5cj40000gq/T/ipykernel_19122/4230871642.py:3: FutureWarning: Passing literal html to 'read_html' is deprecated and will be removed in a future version. To read from a literal string, wrap it in a 'StringIO' object.\n",
      "  data = pd.read_html(response.text)\n",
      "/var/folders/7f/3tsf9r4d1sqd62b89lyh5cj40000gq/T/ipykernel_19122/4230871642.py:3: FutureWarning: Passing literal html to 'read_html' is deprecated and will be removed in a future version. To read from a literal string, wrap it in a 'StringIO' object.\n",
      "  data = pd.read_html(response.text)\n"
     ]
    }
   ],
   "source": [
    "global open_price\n",
    "global close_price\n",
    "global vol_traded\n",
    "open_price = get_open_price()\n",
    "close_price = get_close_price()\n",
    "vol_traded = get_vol_traded()"
   ]
  },
  {
   "cell_type": "code",
   "execution_count": null,
   "metadata": {
    "id": "vgzzzRJmXE5h"
   },
   "outputs": [],
   "source": [
    "#this is the code that needs to run everyday\n",
    "def update_data():\n",
    "  global open_price\n",
    "  open_price = pd.concat([open_price, get_open_price()], axis=0) # Update the variables\n",
    "  global close_price\n",
    "  close_price = pd.concat([close_price, get_close_price()], axis=0)\n",
    "  global vol_traded\n",
    "  vol_traded = pd.concat([vol_traded, get_vol_traded()], axis=0)\n",
    "\n",
    "  return open_price, close_price, vol_traded\n",
    "\n",
    "update_data()"
   ]
  },
  {
   "cell_type": "code",
   "execution_count": null,
   "metadata": {
    "colab": {
     "base_uri": "https://localhost:8080/",
     "height": 266
    },
    "id": "bCqR_jiuQrRv",
    "outputId": "0ffb84b6-ffd2-4871-fd14-4c6aae2483f5"
   },
   "outputs": [],
   "source": [
    "open_price"
   ]
  },
  {
   "cell_type": "code",
   "execution_count": null,
   "metadata": {
    "colab": {
     "base_uri": "https://localhost:8080/",
     "height": 266
    },
    "id": "oXB2mwx-LKmE",
    "outputId": "e25323de-b0fe-4520-9869-02dda7996c73"
   },
   "outputs": [],
   "source": [
    "close_price"
   ]
  },
  {
   "cell_type": "code",
   "execution_count": null,
   "metadata": {
    "colab": {
     "base_uri": "https://localhost:8080/",
     "height": 266
    },
    "id": "wkX0GzJpMlP8",
    "outputId": "fec70af2-21c3-4946-df3e-118e28ce5983"
   },
   "outputs": [],
   "source": [
    "vol_traded"
   ]
  },
  {
   "cell_type": "code",
   "execution_count": null,
   "metadata": {
    "colab": {
     "base_uri": "https://localhost:8080/",
     "height": 245
    },
    "id": "0g7KmjyNM5Ow",
    "outputId": "35593e15-1d55-417c-986d-518ba88c1d9b"
   },
   "outputs": [],
   "source": [
    "#schedule.every(1).day.do(update_data)\n",
    "\n",
    "#while True:\n",
    "   #schedule.run_pending()\n",
    "   #time.sleep(1)\n",
    "\n",
    "   #print('jobs:', len(schedule.get_jobs()))"
   ]
  },
  {
   "cell_type": "code",
   "execution_count": null,
   "metadata": {
    "id": "mgflsI68OnKA"
   },
   "outputs": [],
   "source": []
  },
  {
   "cell_type": "code",
   "execution_count": null,
   "metadata": {
    "id": "1PoXchddOnN-"
   },
   "outputs": [],
   "source": []
  },
  {
   "cell_type": "code",
   "execution_count": null,
   "metadata": {
    "id": "2cauUaL2OnS4"
   },
   "outputs": [],
   "source": []
  },
  {
   "cell_type": "code",
   "execution_count": null,
   "metadata": {
    "id": "LIvmgQg4Nvod"
   },
   "outputs": [],
   "source": []
  }
 ],
 "metadata": {
  "colab": {
   "provenance": []
  },
  "kernelspec": {
   "display_name": "Python 3 (ipykernel)",
   "language": "python",
   "name": "python3"
  },
  "language_info": {
   "codemirror_mode": {
    "name": "ipython",
    "version": 3
   },
   "file_extension": ".py",
   "mimetype": "text/x-python",
   "name": "python",
   "nbconvert_exporter": "python",
   "pygments_lexer": "ipython3",
   "version": "3.11.7"
  }
 },
 "nbformat": 4,
 "nbformat_minor": 4
}
