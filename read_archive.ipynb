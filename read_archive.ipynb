{
 "cells": [
  {
   "cell_type": "code",
   "execution_count": 6,
   "metadata": {},
   "outputs": [
    {
     "name": "stdout",
     "output_type": "stream",
     "text": [
      "Requirement already satisfied: pandas in /opt/conda/lib/python3.11/site-packages (2.1.1)\n",
      "Requirement already satisfied: numpy>=1.23.2 in /opt/conda/lib/python3.11/site-packages (from pandas) (1.24.4)\n",
      "Requirement already satisfied: python-dateutil>=2.8.2 in /opt/conda/lib/python3.11/site-packages (from pandas) (2.8.2)\n",
      "Requirement already satisfied: pytz>=2020.1 in /opt/conda/lib/python3.11/site-packages (from pandas) (2023.3.post1)\n",
      "Requirement already satisfied: tzdata>=2022.1 in /opt/conda/lib/python3.11/site-packages (from pandas) (2023.3)\n",
      "Requirement already satisfied: six>=1.5 in /opt/conda/lib/python3.11/site-packages (from python-dateutil>=2.8.2->pandas) (1.16.0)\n",
      "Note: you may need to restart the kernel to use updated packages.\n"
     ]
    }
   ],
   "source": [
    "pip install pandas"
   ]
  },
  {
   "cell_type": "code",
   "execution_count": 9,
   "metadata": {},
   "outputs": [
    {
     "name": "stdout",
     "output_type": "stream",
     "text": [
      "Found JSON file: ./archive/2024-11-10 21:16:46.415133+02:00/open_price.json\n",
      "Found JSON file: ./archive/2024-11-10 21:16:46.415133+02:00/vol_traded.json\n",
      "Found JSON file: ./archive/2024-11-10 21:16:46.415133+02:00/close_price.json\n"
     ]
    }
   ],
   "source": [
    "import os\n",
    "import glob\n",
    "import pandas as pd\n",
    "\n",
    "def read_and_display_json_files(base_directory: str) -> None:\n",
    "    # Get all subdirectories in the base directory\n",
    "    subdirectories = [d for d in glob.glob(os.path.join(base_directory, '*')) if os.path.isdir(d)]\n",
    "    \n",
    "    # Sort subdirectories based on their names (assuming they are datetime strings)\n",
    "    subdirectories.sort(key=lambda x: os.path.basename(x))\n",
    "    \n",
    "    # Iterate over each subdirectory\n",
    "    for subdir in subdirectories:\n",
    "        # Get all JSON files in the current subdirectory\n",
    "        json_files = glob.glob(os.path.join(subdir, '*.json'))\n",
    "\n",
    "        # Print each JSON file path\n",
    "        for file in json_files:\n",
    "            print(f\"Found JSON file: {file}\")\n",
    "        \n",
    "        # Read and display each JSON file as a DataFrame\n",
    "        for file in json_files:\n",
    "            try:\n",
    "                df = pd.read_json(file, orient='split')\n",
    "                # df.head()\n",
    "                print(f\"Data from {os.path.basename(file)} in {os.path.basename(subdir)}:\")\n",
    "                print(df)\n",
    "                print(\"\\n\")\n",
    "            except ValueError as e:\n",
    "                print(f\"Error reading {file}: {e}\")\n",
    "\n",
    "# Usage\n",
    "read_and_display_json_files('./archive')"
   ]
  },
  {
   "cell_type": "code",
   "execution_count": null,
   "metadata": {},
   "outputs": [],
   "source": []
  }
 ],
 "metadata": {
  "kernelspec": {
   "display_name": "Python 3 (ipykernel)",
   "language": "python",
   "name": "python3"
  },
  "language_info": {
   "codemirror_mode": {
    "name": "ipython",
    "version": 3
   },
   "file_extension": ".py",
   "mimetype": "text/x-python",
   "name": "python",
   "nbconvert_exporter": "python",
   "pygments_lexer": "ipython3",
   "version": "3.11.6"
  }
 },
 "nbformat": 4,
 "nbformat_minor": 4
}
