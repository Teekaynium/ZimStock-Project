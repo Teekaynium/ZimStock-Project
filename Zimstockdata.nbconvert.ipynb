{
 "cells": [
  {
   "cell_type": "code",
   "execution_count": 1,
   "metadata": {
    "colab": {
     "base_uri": "https://localhost:8080/"
    },
    "execution": {
     "iopub.execute_input": "2025-04-02T15:40:12.692649Z",
     "iopub.status.busy": "2025-04-02T15:40:12.692078Z",
     "iopub.status.idle": "2025-04-02T15:40:13.481777Z",
     "shell.execute_reply": "2025-04-02T15:40:13.481003Z"
    },
    "id": "bkiwHgyr18yY",
    "outputId": "aa87ecc4-7fbb-45cf-fd5d-83dac97710f3"
   },
   "outputs": [
    {
     "name": "stdout",
     "output_type": "stream",
     "text": [
      "Requirement already satisfied: schedule in /opt/hostedtoolcache/Python/3.8.18/x64/lib/python3.8/site-packages (1.2.2)\r\n"
     ]
    },
    {
     "name": "stdout",
     "output_type": "stream",
     "text": [
      "Note: you may need to restart the kernel to use updated packages.\n"
     ]
    }
   ],
   "source": [
    "pip install schedule"
   ]
  },
  {
   "cell_type": "code",
   "execution_count": 2,
   "metadata": {
    "execution": {
     "iopub.execute_input": "2025-04-02T15:40:13.484099Z",
     "iopub.status.busy": "2025-04-02T15:40:13.483854Z",
     "iopub.status.idle": "2025-04-02T15:40:14.256962Z",
     "shell.execute_reply": "2025-04-02T15:40:14.256209Z"
    }
   },
   "outputs": [
    {
     "name": "stdout",
     "output_type": "stream",
     "text": [
      "Requirement already satisfied: lxml in /opt/hostedtoolcache/Python/3.8.18/x64/lib/python3.8/site-packages (5.3.1)\r\n"
     ]
    },
    {
     "name": "stdout",
     "output_type": "stream",
     "text": [
      "Note: you may need to restart the kernel to use updated packages.\n"
     ]
    }
   ],
   "source": [
    "pip install lxml"
   ]
  },
  {
   "cell_type": "code",
   "execution_count": 3,
   "metadata": {
    "execution": {
     "iopub.execute_input": "2025-04-02T15:40:14.259425Z",
     "iopub.status.busy": "2025-04-02T15:40:14.258981Z",
     "iopub.status.idle": "2025-04-02T15:40:15.047347Z",
     "shell.execute_reply": "2025-04-02T15:40:15.046516Z"
    }
   },
   "outputs": [
    {
     "name": "stdout",
     "output_type": "stream",
     "text": [
      "Requirement already satisfied: html5lib in /opt/hostedtoolcache/Python/3.8.18/x64/lib/python3.8/site-packages (1.1)\r\n",
      "Requirement already satisfied: six>=1.9 in /opt/hostedtoolcache/Python/3.8.18/x64/lib/python3.8/site-packages (from html5lib) (1.17.0)\r\n",
      "Requirement already satisfied: webencodings in /opt/hostedtoolcache/Python/3.8.18/x64/lib/python3.8/site-packages (from html5lib) (0.5.1)\r\n"
     ]
    },
    {
     "name": "stdout",
     "output_type": "stream",
     "text": [
      "Note: you may need to restart the kernel to use updated packages.\n"
     ]
    }
   ],
   "source": [
    "pip install html5lib"
   ]
  },
  {
   "cell_type": "code",
   "execution_count": 4,
   "metadata": {
    "execution": {
     "iopub.execute_input": "2025-04-02T15:40:15.049860Z",
     "iopub.status.busy": "2025-04-02T15:40:15.049410Z",
     "iopub.status.idle": "2025-04-02T15:40:15.362226Z",
     "shell.execute_reply": "2025-04-02T15:40:15.361584Z"
    },
    "id": "HwKH6crbKh6E"
   },
   "outputs": [],
   "source": [
    "import requests\n",
    "import pandas as pd\n",
    "import datetime\n",
    "import pytz\n",
    "import schedule\n",
    "import time\n",
    "from datetime import datetime\n",
    "from io import StringIO\n",
    "import os\n"
   ]
  },
  {
   "cell_type": "code",
   "execution_count": 5,
   "metadata": {
    "execution": {
     "iopub.execute_input": "2025-04-02T15:40:15.364694Z",
     "iopub.status.busy": "2025-04-02T15:40:15.364395Z",
     "iopub.status.idle": "2025-04-02T15:40:15.367733Z",
     "shell.execute_reply": "2025-04-02T15:40:15.367117Z"
    },
    "id": "OzZsaUk5KkQD"
   },
   "outputs": [],
   "source": [
    "url = \"https://www.zse.co.zw/price-sheet/\""
   ]
  },
  {
   "cell_type": "code",
   "execution_count": 6,
   "metadata": {
    "execution": {
     "iopub.execute_input": "2025-04-02T15:40:15.370139Z",
     "iopub.status.busy": "2025-04-02T15:40:15.369584Z",
     "iopub.status.idle": "2025-04-02T15:40:15.376746Z",
     "shell.execute_reply": "2025-04-02T15:40:15.376129Z"
    },
    "id": "fbQINTP9KtLM"
   },
   "outputs": [],
   "source": [
    "def get_todays_data():\n",
    "  response = requests.get(url)\n",
    "  data = pd.read_html(StringIO(response.text))\n",
    "  df = pd.DataFrame(data[0])\n",
    "  df.columns = df.iloc[0]\n",
    "  df = df[1:]\n",
    "  df = df.dropna()\n",
    "  return df\n",
    "\n",
    "def get_open_price():\n",
    "  df = get_todays_data()\n",
    "  open_price = df[['Company Name','Opening Price']].T\n",
    "  open_price.columns  = open_price.iloc[0]\n",
    "  open_price = open_price[1:]\n",
    "  open_price.index.name = 'Date'\n",
    "  open_price = open_price.rename(index={open_price.index[0]: datetime.now(pytz.timezone('Africa/Harare'))})\n",
    "  return open_price\n",
    "\n",
    "def get_close_price():\n",
    "  df = get_todays_data()\n",
    "  close_price = df[['Company Name','Closing Price']].T\n",
    "  close_price.columns  = close_price.iloc[0]\n",
    "  close_price = close_price[1:]\n",
    "  close_price.index.name = 'Date'\n",
    "  close_price = close_price.rename(index={close_price.index[0]: datetime.now(pytz.timezone('Africa/Harare'))})\n",
    "  return close_price\n",
    "\n",
    "def get_vol_traded():\n",
    "  df = get_todays_data()\n",
    "  vol_traded = df[['Company Name','Total Traded Volume']].T\n",
    "  vol_traded.columns  = vol_traded.iloc[0]\n",
    "  vol_traded = vol_traded[1:]\n",
    "  vol_traded.index.name = 'Date'\n",
    "  vol_traded = vol_traded.rename(index={vol_traded.index[0]: datetime.now(pytz.timezone('Africa/Harare'))})\n",
    "  return vol_traded"
   ]
  },
  {
   "cell_type": "code",
   "execution_count": 7,
   "metadata": {
    "colab": {
     "base_uri": "https://localhost:8080/"
    },
    "execution": {
     "iopub.execute_input": "2025-04-02T15:40:15.378899Z",
     "iopub.status.busy": "2025-04-02T15:40:15.378534Z",
     "iopub.status.idle": "2025-04-02T15:40:30.744325Z",
     "shell.execute_reply": "2025-04-02T15:40:30.743612Z"
    },
    "id": "3vv2noyKKz_c",
    "outputId": "29d3a9fc-4e9d-4f6d-d09a-6c62e9855c15"
   },
   "outputs": [],
   "source": [
    "global open_price\n",
    "global close_price\n",
    "global vol_traded\n",
    "open_price = get_open_price()\n",
    "close_price = get_close_price()\n",
    "vol_traded = get_vol_traded()"
   ]
  },
  {
   "cell_type": "code",
   "execution_count": 8,
   "metadata": {
    "execution": {
     "iopub.execute_input": "2025-04-02T15:40:30.746936Z",
     "iopub.status.busy": "2025-04-02T15:40:30.746449Z",
     "iopub.status.idle": "2025-04-02T15:40:45.500925Z",
     "shell.execute_reply": "2025-04-02T15:40:45.500248Z"
    },
    "id": "vgzzzRJmXE5h"
   },
   "outputs": [
    {
     "data": {
      "text/plain": [
       "(Empty DataFrame\n",
       " Columns: []\n",
       " Index: [2025-04-02 17:40:20.938018+02:00, 2025-04-02 17:40:35.576716+02:00],\n",
       " Empty DataFrame\n",
       " Columns: []\n",
       " Index: [2025-04-02 17:40:26.217242+02:00, 2025-04-02 17:40:40.586584+02:00],\n",
       " Empty DataFrame\n",
       " Columns: []\n",
       " Index: [2025-04-02 17:40:30.741927+02:00, 2025-04-02 17:40:45.492840+02:00])"
      ]
     },
     "execution_count": 8,
     "metadata": {},
     "output_type": "execute_result"
    }
   ],
   "source": [
    "#this is the code that needs to run everyday\n",
    "def update_data():\n",
    "  global open_price\n",
    "  open_price = pd.concat([open_price, get_open_price()], axis=0) # Update the variables\n",
    "  global close_price\n",
    "  close_price = pd.concat([close_price, get_close_price()], axis=0)\n",
    "  global vol_traded\n",
    "  vol_traded = pd.concat([vol_traded, get_vol_traded()], axis=0)\n",
    "\n",
    "  return open_price, close_price, vol_traded\n",
    "\n",
    "update_data()"
   ]
  },
  {
   "cell_type": "code",
   "execution_count": 9,
   "metadata": {
    "execution": {
     "iopub.execute_input": "2025-04-02T15:40:45.503307Z",
     "iopub.status.busy": "2025-04-02T15:40:45.502869Z",
     "iopub.status.idle": "2025-04-02T15:40:45.509311Z",
     "shell.execute_reply": "2025-04-02T15:40:45.508556Z"
    }
   },
   "outputs": [],
   "source": [
    "def save_data_with_index_timestamp(open_price: pd.DataFrame, close_price: pd.DataFrame, vol_traded: pd.DataFrame):\n",
    "    # Extract the index name (timestamp) from the DataFrames\n",
    "    timestamp = open_price.index[0]\n",
    "    \n",
    "    # Create the directory path using the timestamp\n",
    "    directory_path = f'archive/{timestamp}'\n",
    "    \n",
    "    # Create the directory if it doesn't exist\n",
    "    os.makedirs(directory_path, exist_ok=True)\n",
    "    \n",
    "    # Save the DataFrames to JSON files with the timestamped directory\n",
    "    open_price.to_json(f'{directory_path}/open_price.json', orient='split', date_format='iso')\n",
    "    close_price.to_json(f'{directory_path}/close_price.json', orient='split', date_format='iso')\n",
    "    vol_traded.to_json(f'{directory_path}/vol_traded.json', orient='split', date_format='iso')\n",
    "\n",
    "# Example usage\n",
    "save_data_with_index_timestamp(open_price, close_price, vol_traded)"
   ]
  },
  {
   "cell_type": "code",
   "execution_count": 10,
   "metadata": {
    "colab": {
     "base_uri": "https://localhost:8080/",
     "height": 266
    },
    "execution": {
     "iopub.execute_input": "2025-04-02T15:40:45.511484Z",
     "iopub.status.busy": "2025-04-02T15:40:45.511275Z",
     "iopub.status.idle": "2025-04-02T15:40:45.517797Z",
     "shell.execute_reply": "2025-04-02T15:40:45.517076Z"
    },
    "id": "bCqR_jiuQrRv",
    "outputId": "0ffb84b6-ffd2-4871-fd14-4c6aae2483f5",
    "scrolled": true
   },
   "outputs": [
    {
     "data": {
      "text/html": [
       "<div>\n",
       "<style scoped>\n",
       "    .dataframe tbody tr th:only-of-type {\n",
       "        vertical-align: middle;\n",
       "    }\n",
       "\n",
       "    .dataframe tbody tr th {\n",
       "        vertical-align: top;\n",
       "    }\n",
       "\n",
       "    .dataframe thead th {\n",
       "        text-align: right;\n",
       "    }\n",
       "</style>\n",
       "<table border=\"1\" class=\"dataframe\">\n",
       "  <thead>\n",
       "    <tr style=\"text-align: right;\">\n",
       "      <th>Company Name</th>\n",
       "    </tr>\n",
       "    <tr>\n",
       "      <th>Date</th>\n",
       "    </tr>\n",
       "  </thead>\n",
       "  <tbody>\n",
       "    <tr>\n",
       "      <th>2025-04-02 17:40:20.938018+02:00</th>\n",
       "    </tr>\n",
       "    <tr>\n",
       "      <th>2025-04-02 17:40:35.576716+02:00</th>\n",
       "    </tr>\n",
       "  </tbody>\n",
       "</table>\n",
       "</div>"
      ],
      "text/plain": [
       "Empty DataFrame\n",
       "Columns: []\n",
       "Index: [2025-04-02 17:40:20.938018+02:00, 2025-04-02 17:40:35.576716+02:00]"
      ]
     },
     "execution_count": 10,
     "metadata": {},
     "output_type": "execute_result"
    }
   ],
   "source": [
    "open_price"
   ]
  },
  {
   "cell_type": "code",
   "execution_count": 11,
   "metadata": {
    "colab": {
     "base_uri": "https://localhost:8080/",
     "height": 266
    },
    "execution": {
     "iopub.execute_input": "2025-04-02T15:40:45.520197Z",
     "iopub.status.busy": "2025-04-02T15:40:45.519722Z",
     "iopub.status.idle": "2025-04-02T15:40:45.525088Z",
     "shell.execute_reply": "2025-04-02T15:40:45.524501Z"
    },
    "id": "oXB2mwx-LKmE",
    "outputId": "e25323de-b0fe-4520-9869-02dda7996c73"
   },
   "outputs": [
    {
     "data": {
      "text/html": [
       "<div>\n",
       "<style scoped>\n",
       "    .dataframe tbody tr th:only-of-type {\n",
       "        vertical-align: middle;\n",
       "    }\n",
       "\n",
       "    .dataframe tbody tr th {\n",
       "        vertical-align: top;\n",
       "    }\n",
       "\n",
       "    .dataframe thead th {\n",
       "        text-align: right;\n",
       "    }\n",
       "</style>\n",
       "<table border=\"1\" class=\"dataframe\">\n",
       "  <thead>\n",
       "    <tr style=\"text-align: right;\">\n",
       "      <th>Company Name</th>\n",
       "    </tr>\n",
       "    <tr>\n",
       "      <th>Date</th>\n",
       "    </tr>\n",
       "  </thead>\n",
       "  <tbody>\n",
       "    <tr>\n",
       "      <th>2025-04-02 17:40:26.217242+02:00</th>\n",
       "    </tr>\n",
       "    <tr>\n",
       "      <th>2025-04-02 17:40:40.586584+02:00</th>\n",
       "    </tr>\n",
       "  </tbody>\n",
       "</table>\n",
       "</div>"
      ],
      "text/plain": [
       "Empty DataFrame\n",
       "Columns: []\n",
       "Index: [2025-04-02 17:40:26.217242+02:00, 2025-04-02 17:40:40.586584+02:00]"
      ]
     },
     "execution_count": 11,
     "metadata": {},
     "output_type": "execute_result"
    }
   ],
   "source": [
    "close_price"
   ]
  },
  {
   "cell_type": "code",
   "execution_count": 12,
   "metadata": {
    "colab": {
     "base_uri": "https://localhost:8080/",
     "height": 266
    },
    "execution": {
     "iopub.execute_input": "2025-04-02T15:40:45.527286Z",
     "iopub.status.busy": "2025-04-02T15:40:45.526876Z",
     "iopub.status.idle": "2025-04-02T15:40:45.532199Z",
     "shell.execute_reply": "2025-04-02T15:40:45.531624Z"
    },
    "id": "wkX0GzJpMlP8",
    "outputId": "fec70af2-21c3-4946-df3e-118e28ce5983",
    "scrolled": true
   },
   "outputs": [
    {
     "data": {
      "text/html": [
       "<div>\n",
       "<style scoped>\n",
       "    .dataframe tbody tr th:only-of-type {\n",
       "        vertical-align: middle;\n",
       "    }\n",
       "\n",
       "    .dataframe tbody tr th {\n",
       "        vertical-align: top;\n",
       "    }\n",
       "\n",
       "    .dataframe thead th {\n",
       "        text-align: right;\n",
       "    }\n",
       "</style>\n",
       "<table border=\"1\" class=\"dataframe\">\n",
       "  <thead>\n",
       "    <tr style=\"text-align: right;\">\n",
       "      <th>Company Name</th>\n",
       "    </tr>\n",
       "    <tr>\n",
       "      <th>Date</th>\n",
       "    </tr>\n",
       "  </thead>\n",
       "  <tbody>\n",
       "    <tr>\n",
       "      <th>2025-04-02 17:40:30.741927+02:00</th>\n",
       "    </tr>\n",
       "    <tr>\n",
       "      <th>2025-04-02 17:40:45.492840+02:00</th>\n",
       "    </tr>\n",
       "  </tbody>\n",
       "</table>\n",
       "</div>"
      ],
      "text/plain": [
       "Empty DataFrame\n",
       "Columns: []\n",
       "Index: [2025-04-02 17:40:30.741927+02:00, 2025-04-02 17:40:45.492840+02:00]"
      ]
     },
     "execution_count": 12,
     "metadata": {},
     "output_type": "execute_result"
    }
   ],
   "source": [
    "vol_traded"
   ]
  },
  {
   "cell_type": "code",
   "execution_count": 13,
   "metadata": {
    "execution": {
     "iopub.execute_input": "2025-04-02T15:40:45.534392Z",
     "iopub.status.busy": "2025-04-02T15:40:45.533998Z",
     "iopub.status.idle": "2025-04-02T15:40:45.537125Z",
     "shell.execute_reply": "2025-04-02T15:40:45.536453Z"
    }
   },
   "outputs": [],
   "source": [
    "# import pandas as pd\n",
    "\n",
    "# Load JSON data into a DataFrame\n",
    "# def load_json_data(file_path: str) -> pd.DataFrame:\n",
    "#     return pd.read_json(file_path, orient='split')\n",
    "\n",
    "# # Example usage\n",
    "# open_price_df = load_json_data('open_price.json')\n",
    "# close_price_df = load_json_data('close_price.json')\n",
    "# vol_traded_df = load_json_data('vol_traded.json')\n",
    "\n",
    "# # Display the DataFrames\n",
    "# open_price_df.head()\n",
    "# close_price_df.head()\n",
    "# vol_traded_df.head()"
   ]
  },
  {
   "cell_type": "code",
   "execution_count": 14,
   "metadata": {
    "colab": {
     "base_uri": "https://localhost:8080/",
     "height": 245
    },
    "execution": {
     "iopub.execute_input": "2025-04-02T15:40:45.539441Z",
     "iopub.status.busy": "2025-04-02T15:40:45.538930Z",
     "iopub.status.idle": "2025-04-02T15:40:45.541782Z",
     "shell.execute_reply": "2025-04-02T15:40:45.541254Z"
    },
    "id": "0g7KmjyNM5Ow",
    "outputId": "35593e15-1d55-417c-986d-518ba88c1d9b"
   },
   "outputs": [],
   "source": [
    "#schedule.every(1).day.do(update_data)\n",
    "\n",
    "#while True:\n",
    "   #schedule.run_pending()\n",
    "   #time.sleep(1)\n",
    "\n",
    "   #print('jobs:', len(schedule.get_jobs()))"
   ]
  }
 ],
 "metadata": {
  "colab": {
   "provenance": []
  },
  "kernelspec": {
   "display_name": "Python 3 (ipykernel)",
   "language": "python",
   "name": "python3"
  },
  "language_info": {
   "codemirror_mode": {
    "name": "ipython",
    "version": 3
   },
   "file_extension": ".py",
   "mimetype": "text/x-python",
   "name": "python",
   "nbconvert_exporter": "python",
   "pygments_lexer": "ipython3",
   "version": "3.8.18"
  }
 },
 "nbformat": 4,
 "nbformat_minor": 4
}
