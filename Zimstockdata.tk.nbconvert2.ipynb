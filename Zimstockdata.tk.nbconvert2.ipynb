{
 "cells": [
  {
   "cell_type": "code",
   "execution_count": 11,
   "metadata": {
    "colab": {
     "base_uri": "https://localhost:8080/"
    },
    "id": "bkiwHgyr18yY",
    "outputId": "aa87ecc4-7fbb-45cf-fd5d-83dac97710f3"
   },
   "outputs": [
    {
     "name": "stdout",
     "output_type": "stream",
     "text": [
      "Collecting schedule\n",
      "  Downloading schedule-1.2.2-py3-none-any.whl.metadata (3.8 kB)\n",
      "Downloading schedule-1.2.2-py3-none-any.whl (12 kB)\n",
      "Installing collected packages: schedule\n",
      "Successfully installed schedule-1.2.2\n",
      "Note: you may need to restart the kernel to use updated packages.\n"
     ]
    }
   ],
   "source": [
    "pip install schedule"
   ]
  },
  {
   "cell_type": "code",
   "execution_count": 12,
   "metadata": {},
   "outputs": [
    {
     "name": "stdout",
     "output_type": "stream",
     "text": [
      "Requirement already satisfied: lxml in /Applications/anaconda3/lib/python3.12/site-packages (5.2.1)\n",
      "Note: you may need to restart the kernel to use updated packages.\n"
     ]
    }
   ],
   "source": [
    "pip install lxml"
   ]
  },
  {
   "cell_type": "code",
   "execution_count": 13,
   "metadata": {},
   "outputs": [
    {
     "name": "stdout",
     "output_type": "stream",
     "text": [
      "Requirement already satisfied: html5lib in /Applications/anaconda3/lib/python3.12/site-packages (1.1)\n",
      "Requirement already satisfied: six>=1.9 in /Applications/anaconda3/lib/python3.12/site-packages (from html5lib) (1.16.0)\n",
      "Requirement already satisfied: webencodings in /Applications/anaconda3/lib/python3.12/site-packages (from html5lib) (0.5.1)\n",
      "Note: you may need to restart the kernel to use updated packages.\n"
     ]
    }
   ],
   "source": [
    "pip install html5lib"
   ]
  },
  {
   "cell_type": "code",
   "execution_count": 92,
   "metadata": {
    "id": "HwKH6crbKh6E"
   },
   "outputs": [],
   "source": [
    "import requests\n",
    "import pandas as pd\n",
    "import datetime\n",
    "import pytz\n",
    "import schedule\n",
    "import time\n",
    "from datetime import datetime\n",
    "from io import StringIO\n",
    "import os\n"
   ]
  },
  {
   "cell_type": "code",
   "execution_count": 94,
   "metadata": {
    "id": "OzZsaUk5KkQD"
   },
   "outputs": [],
   "source": [
    "url = \"https://www.zse.co.zw/price-sheet/\"\n",
    "url2 = \"https://zimpricecheck.com/price-updates/official-and-black-market-exchange-rates/?srsltid=AfmBOoo-30J1RAcbr6OMk7Z-R0rUF_sH7WBp97Qt1O3C4FrP8n7cXhj_\""
   ]
  },
  {
   "cell_type": "code",
   "execution_count": 96,
   "metadata": {
    "id": "fbQINTP9KtLM"
   },
   "outputs": [],
   "source": [
    "def get_todays_data():\n",
    "    \"\"\" function to extract Zim Stock Exchange daily data\"\"\"\n",
    "    response = requests.get(url)\n",
    "    data = pd.read_html(StringIO(response.text))\n",
    "    df = pd.DataFrame(data[0])\n",
    "    df.columns = df.iloc[0]\n",
    "    df = df[1:]\n",
    "    df = df.dropna()\n",
    "    return df\n",
    "\n",
    "def get_open_price():\n",
    "    \"\"\" function to create dataframe from extracted data,\n",
    "    specifically detailing open price figures.\"\"\"\n",
    "    df = get_todays_data()\n",
    "    open_price = df[['Company Name','Opening Price']].T\n",
    "    open_price.columns  = open_price.iloc[0]\n",
    "    open_price = open_price[1:]\n",
    "    open_price.index.name = 'Date'\n",
    "    open_price = open_price.rename(\n",
    "      index={open_price.index[0]: datetime.now(pytz.timezone('Africa/Harare'))})\n",
    "    return open_price\n",
    "\n",
    "def get_close_price():\n",
    "    \"\"\" function to create dataframe from extracted data,\n",
    "    specifically detailing open price figures.\"\"\"\n",
    "    df = get_todays_data()\n",
    "    close_price = df[['Company Name','Closing Price']].T\n",
    "    close_price.columns  = close_price.iloc[0]\n",
    "    close_price = close_price[1:]\n",
    "    close_price.index.name = 'Date'\n",
    "    close_price = close_price.rename(\n",
    "      index={close_price.index[0]: datetime.now(pytz.timezone('Africa/Harare'))})\n",
    "    return close_price\n",
    "\n",
    "def get_vol_traded():\n",
    "    \"\"\" function to create dataframe from extracted data,\n",
    "    specifically detailing open price figures.\"\"\"\n",
    "    df = get_todays_data()\n",
    "    vol_traded = df[['Company Name','Total Traded Volume']].T\n",
    "    vol_traded.columns  = vol_traded.iloc[0]\n",
    "    vol_traded = vol_traded[1:]\n",
    "    vol_traded.index.name = 'Date'\n",
    "    vol_traded = vol_traded.rename(\n",
    "      index={vol_traded.index[0]: datetime.now(pytz.timezone('Africa/Harare'))})\n",
    "    return vol_traded\n",
    "\n"
   ]
  },
  {
   "cell_type": "code",
   "execution_count": 98,
   "metadata": {
    "colab": {
     "base_uri": "https://localhost:8080/"
    },
    "id": "3vv2noyKKz_c",
    "outputId": "29d3a9fc-4e9d-4f6d-d09a-6c62e9855c15"
   },
   "outputs": [],
   "source": [
    "## this functions are to get daily exchnage rates\n",
    "\n",
    "def get_rates():\n",
    "    \"\"\" function to create dataframe from extracted data,\n",
    "    specifically detailing exchange rate figures.\"\"\"\n",
    "    response = requests.get(url2)\n",
    "    data = pd.read_html(StringIO(response.text))\n",
    "    df = pd.DataFrame(data[0])\n",
    "\n",
    "    # Example data\n",
    "\n",
    "    # Extract the numeric part\n",
    "    df['value'] = df['Value'].str.extract(r'(\\d+\\.?\\d*)').astype(float)\n",
    "    \n",
    "    df = df.drop(columns = ['Value'], axis = 1)\n",
    "    target_rates = [\n",
    "    '1 USD to ZiG',\n",
    "    '1 USD to ZiG Lowest Informal Sector Rate',\n",
    "    '1 USD to ZiG Highest Informal Sector Rate']\n",
    "\n",
    "    # Filter the dataframe\n",
    "    filtered_rates = df[df['Rate'].isin(target_rates)]\n",
    "\n",
    "    \n",
    "    \"\"\"\n",
    "    Converts the new rates dataframe to match the structure of the base dataframe.\n",
    "\n",
    "    Returns a one-row dataframe with columns: \n",
    "    Date, USA DOLLAR, Lowest Informal Sector Rate, Highest Informal Sector Rate\n",
    "    \"\"\"\n",
    "    # Get today's date\n",
    "    today = pd.to_datetime(datetime.today().date())\n",
    "\n",
    "    # Extract the required rates\n",
    "    try:\n",
    "        usd_rate = filtered_rates.loc[filtered_rates['Rate'] == '1 USD to ZiG', 'value'].values[0]\n",
    "    except IndexError:\n",
    "        usd_rate = pd.NA  # If not found, leave as missing\n",
    "\n",
    "    try:\n",
    "        lowest_rate = filtered_rates.loc[filtered_rates['Rate'] == '1 USD to ZiG Lowest Informal Sector Rate', 'value'].values[0]\n",
    "    except IndexError:\n",
    "        lowest_rate = pd.NA\n",
    "\n",
    "    try:\n",
    "        highest_rate = filtered_rates.loc[filtered_rates['Rate'] == '1 USD to ZiG Highest Informal Sector Rate', 'value'].values[0]\n",
    "    except IndexError:\n",
    "        highest_rate = pd.NA\n",
    "\n",
    "    # Build the new dataframe in the required structure\n",
    "    rates = pd.DataFrame([{\n",
    "        'Date': today,\n",
    "        'USA DOLLAR': usd_rate,\n",
    "        'Lowest Informal Sector Rate': lowest_rate,\n",
    "        'Highest Informal Sector Rate': highest_rate\n",
    "    }])\n",
    "\n",
    "    return rates\n",
    "\n",
    "\n",
    "\n"
   ]
  },
  {
   "cell_type": "code",
   "execution_count": 103,
   "metadata": {
    "colab": {
     "base_uri": "https://localhost:8080/",
     "height": 266
    },
    "id": "bCqR_jiuQrRv",
    "outputId": "0ffb84b6-ffd2-4871-fd14-4c6aae2483f5",
    "scrolled": true
   },
   "outputs": [],
   "source": [
    "# code to retrieve existing json files with Zim Stock Data for updating\n",
    "open_json = pd.read_json('archive-single-file/open_price.json', orient = 'split')\n",
    "close_json = pd.read_json('archive-single-file/close_price.json', orient = 'split')\n",
    "vol_json = pd.read_json('archive-single-file/vol_traded.json', orient = 'split')\n",
    "rates_json = pd.read_json('archive-single-file/rates.json', orient = 'split')"
   ]
  },
  {
   "cell_type": "code",
   "execution_count": 105,
   "metadata": {
    "colab": {
     "base_uri": "https://localhost:8080/",
     "height": 266
    },
    "id": "oXB2mwx-LKmE",
    "outputId": "e25323de-b0fe-4520-9869-02dda7996c73"
   },
   "outputs": [],
   "source": [
    "#this is the code that needs to run everyday\n",
    "def update_data():\n",
    "    \"\"\" this function updates the daily extracted data onto the existing dataframe\"\"\"\n",
    "    open_price = pd.concat([open_json, get_open_price()], axis=0) # Update the variables\n",
    "    close_price = pd.concat([close_json, get_close_price()], axis=0)\n",
    "    vol_traded = pd.concat([vol_json, get_vol_traded()], axis=0)\n",
    "    rates = pd.concat([rates_json, get_rates()], axis=0)\n",
    "    \n",
    "    return open_price, close_price, vol_traded, rates"
   ]
  },
  {
   "cell_type": "code",
   "execution_count": 108,
   "metadata": {
    "colab": {
     "base_uri": "https://localhost:8080/",
     "height": 266
    },
    "id": "wkX0GzJpMlP8",
    "outputId": "fec70af2-21c3-4946-df3e-118e28ce5983",
    "scrolled": true
   },
   "outputs": [],
   "source": [
    "def save_data(open_price: pd.DataFrame, close_price: pd.DataFrame, vol_traded: pd.DataFrame, rates: pd.DataFrame):\n",
    "    \"\"\" function to save updated dataframes as json files\"\"\"\n",
    "    # Save the DataFrames to JSON files with the timestamped directory\n",
    "    open_price.to_json('archive-single-file/open_price.json', orient='split', date_format='iso')\n",
    "    close_price.to_json('archive-single-file/close_price.json', orient='split', date_format='iso')\n",
    "    vol_traded.to_json('archive-single-file/vol_traded.json', orient='split', date_format='iso')\n",
    "    rates.to_json('archive-single-file/rates.json', orient='split', date_format='iso')\n",
    "\n",
    "save_data(update_data()[0], update_data()[1] , update_data()[2], update_data()[3])"
   ]
  },
  {
   "cell_type": "code",
   "execution_count": null,
   "metadata": {
    "colab": {
     "base_uri": "https://localhost:8080/",
     "height": 245
    },
    "id": "0g7KmjyNM5Ow",
    "outputId": "35593e15-1d55-417c-986d-518ba88c1d9b"
   },
   "outputs": [],
   "source": []
  },
  {
   "cell_type": "code",
   "execution_count": null,
   "metadata": {},
   "outputs": [],
   "source": []
  }
 ],
 "metadata": {
  "colab": {
   "provenance": []
  },
  "kernelspec": {
   "display_name": "Python [conda env:base] *",
   "language": "python",
   "name": "conda-base-py"
  },
  "language_info": {
   "codemirror_mode": {
    "name": "ipython",
    "version": 3
   },
   "file_extension": ".py",
   "mimetype": "text/x-python",
   "name": "python",
   "nbconvert_exporter": "python",
   "pygments_lexer": "ipython3",
   "version": "3.12.7"
  }
 },
 "nbformat": 4,
 "nbformat_minor": 4
}
