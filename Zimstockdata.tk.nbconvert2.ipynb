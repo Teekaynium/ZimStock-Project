{
 "cells": [
  {
   "cell_type": "code",
   "execution_count": 1,
   "metadata": {
    "colab": {
     "base_uri": "https://localhost:8080/"
    },
    "execution": {
     "iopub.execute_input": "2025-02-03T15:36:54.047413Z",
     "iopub.status.busy": "2025-02-03T15:36:54.047217Z",
     "iopub.status.idle": "2025-02-03T15:36:54.830128Z",
     "shell.execute_reply": "2025-02-03T15:36:54.829375Z"
    },
    "id": "bkiwHgyr18yY",
    "outputId": "aa87ecc4-7fbb-45cf-fd5d-83dac97710f3"
   },
   "outputs": [
    {
     "name": "stdout",
     "output_type": "stream",
     "text": [
      "Requirement already satisfied: schedule in /opt/hostedtoolcache/Python/3.8.18/x64/lib/python3.8/site-packages (1.2.2)\r\n"
     ]
    },
    {
     "name": "stdout",
     "output_type": "stream",
     "text": [
      "Note: you may need to restart the kernel to use updated packages.\n"
     ]
    }
   ],
   "source": [
    "pip install schedule"
   ]
  },
  {
   "cell_type": "code",
   "execution_count": 2,
   "metadata": {
    "execution": {
     "iopub.execute_input": "2025-02-03T15:36:54.832570Z",
     "iopub.status.busy": "2025-02-03T15:36:54.832143Z",
     "iopub.status.idle": "2025-02-03T15:36:55.618485Z",
     "shell.execute_reply": "2025-02-03T15:36:55.617640Z"
    }
   },
   "outputs": [
    {
     "name": "stdout",
     "output_type": "stream",
     "text": [
      "Requirement already satisfied: lxml in /opt/hostedtoolcache/Python/3.8.18/x64/lib/python3.8/site-packages (5.3.0)\r\n"
     ]
    },
    {
     "name": "stdout",
     "output_type": "stream",
     "text": [
      "Note: you may need to restart the kernel to use updated packages.\n"
     ]
    }
   ],
   "source": [
    "pip install lxml"
   ]
  },
  {
   "cell_type": "code",
   "execution_count": 3,
   "metadata": {
    "execution": {
     "iopub.execute_input": "2025-02-03T15:36:55.621039Z",
     "iopub.status.busy": "2025-02-03T15:36:55.620593Z",
     "iopub.status.idle": "2025-02-03T15:36:56.424846Z",
     "shell.execute_reply": "2025-02-03T15:36:56.424094Z"
    }
   },
   "outputs": [
    {
     "name": "stdout",
     "output_type": "stream",
     "text": [
      "Requirement already satisfied: html5lib in /opt/hostedtoolcache/Python/3.8.18/x64/lib/python3.8/site-packages (1.1)\r\n",
      "Requirement already satisfied: six>=1.9 in /opt/hostedtoolcache/Python/3.8.18/x64/lib/python3.8/site-packages (from html5lib) (1.17.0)\r\n",
      "Requirement already satisfied: webencodings in /opt/hostedtoolcache/Python/3.8.18/x64/lib/python3.8/site-packages (from html5lib) (0.5.1)\r\n"
     ]
    },
    {
     "name": "stdout",
     "output_type": "stream",
     "text": [
      "Note: you may need to restart the kernel to use updated packages.\n"
     ]
    }
   ],
   "source": [
    "pip install html5lib"
   ]
  },
  {
   "cell_type": "code",
   "execution_count": 4,
   "metadata": {
    "execution": {
     "iopub.execute_input": "2025-02-03T15:36:56.427034Z",
     "iopub.status.busy": "2025-02-03T15:36:56.426797Z",
     "iopub.status.idle": "2025-02-03T15:36:56.728749Z",
     "shell.execute_reply": "2025-02-03T15:36:56.728021Z"
    },
    "id": "HwKH6crbKh6E"
   },
   "outputs": [],
   "source": [
    "import requests\n",
    "import pandas as pd\n",
    "import datetime\n",
    "import pytz\n",
    "import schedule\n",
    "import time\n",
    "from datetime import datetime\n",
    "from io import StringIO\n",
    "import os\n"
   ]
  },
  {
   "cell_type": "code",
   "execution_count": 5,
   "metadata": {
    "execution": {
     "iopub.execute_input": "2025-02-03T15:36:56.731612Z",
     "iopub.status.busy": "2025-02-03T15:36:56.731044Z",
     "iopub.status.idle": "2025-02-03T15:36:56.734356Z",
     "shell.execute_reply": "2025-02-03T15:36:56.733761Z"
    },
    "id": "OzZsaUk5KkQD"
   },
   "outputs": [],
   "source": [
    "url = \"https://www.zse.co.zw/price-sheet/\""
   ]
  },
  {
   "cell_type": "code",
   "execution_count": 2,
   "metadata": {
    "id": "fbQINTP9KtLM"
   },
   "outputs": [],
   "source": [
    "def get_todays_data():\n",
    "    \"\"\" function to extract Zim Stock Exchange daily data\"\"\"\n",
    "    response = requests.get(url)\n",
    "    data = pd.read_html(StringIO(response.text))\n",
    "    df = pd.DataFrame(data[0])\n",
    "    df.columns = df.iloc[0]\n",
    "    df = df[1:]\n",
    "    df = df.dropna()\n",
    "    return df\n",
    "\n",
    "def get_open_price():\n",
    "    \"\"\" function to create dataframe from extracted data,\n",
    "    specifically detailing open price figures.\"\"\"\n",
    "    df = get_todays_data()\n",
    "    open_price = df[['Company Name','Opening Price']].T\n",
    "    open_price.columns  = open_price.iloc[0]\n",
    "    open_price = open_price[1:]\n",
    "    open_price.index.name = 'Date'\n",
    "    open_price = open_price.rename(\n",
    "      index={open_price.index[0]: datetime.now(pytz.timezone('Africa/Harare'))})\n",
    "    return open_price\n",
    "\n",
    "def get_close_price():\n",
    "    \"\"\" function to create dataframe from extracted data,\n",
    "    specifically detailing open price figures.\"\"\"\n",
    "    df = get_todays_data()\n",
    "    close_price = df[['Company Name','Closing Price']].T\n",
    "    close_price.columns  = close_price.iloc[0]\n",
    "    close_price = close_price[1:]\n",
    "    close_price.index.name = 'Date'\n",
    "    close_price = close_price.rename(\n",
    "      index={close_price.index[0]: datetime.now(pytz.timezone('Africa/Harare'))})\n",
    "    return close_price\n",
    "\n",
    "def get_vol_traded():\n",
    "    \"\"\" function to create dataframe from extracted data,\n",
    "    specifically detailing open price figures.\"\"\"\n",
    "    df = get_todays_data()\n",
    "    vol_traded = df[['Company Name','Total Traded Volume']].T\n",
    "    vol_traded.columns  = vol_traded.iloc[0]\n",
    "    vol_traded = vol_traded[1:]\n",
    "    vol_traded.index.name = 'Date'\n",
    "    vol_traded = vol_traded.rename(\n",
    "      index={vol_traded.index[0]: datetime.now(pytz.timezone('Africa/Harare'))})\n",
    "    return vol_traded"
   ]
  },
  {
   "cell_type": "code",
   "execution_count": 7,
   "metadata": {
    "colab": {
     "base_uri": "https://localhost:8080/"
    },
    "execution": {
     "iopub.execute_input": "2025-02-03T15:36:56.745051Z",
     "iopub.status.busy": "2025-02-03T15:36:56.744827Z",
     "iopub.status.idle": "2025-02-03T15:36:56.747627Z",
     "shell.execute_reply": "2025-02-03T15:36:56.747080Z"
    },
    "id": "3vv2noyKKz_c",
    "outputId": "29d3a9fc-4e9d-4f6d-d09a-6c62e9855c15"
   },
   "outputs": [],
   "source": []
  },
  {
   "cell_type": "code",
   "execution_count": null,
   "metadata": {
    "id": "vgzzzRJmXE5h"
   },
   "outputs": [],
   "source": []
  },
  {
   "cell_type": "code",
   "execution_count": 8,
   "metadata": {
    "execution": {
     "iopub.execute_input": "2025-02-03T15:36:56.749790Z",
     "iopub.status.busy": "2025-02-03T15:36:56.749596Z",
     "iopub.status.idle": "2025-02-03T15:36:56.753390Z",
     "shell.execute_reply": "2025-02-03T15:36:56.752836Z"
    }
   },
   "outputs": [],
   "source": []
  },
  {
   "cell_type": "code",
   "execution_count": 9,
   "metadata": {
    "colab": {
     "base_uri": "https://localhost:8080/",
     "height": 266
    },
    "execution": {
     "iopub.execute_input": "2025-02-03T15:36:56.755404Z",
     "iopub.status.busy": "2025-02-03T15:36:56.755206Z",
     "iopub.status.idle": "2025-02-03T15:36:56.811839Z",
     "shell.execute_reply": "2025-02-03T15:36:56.811253Z"
    },
    "id": "bCqR_jiuQrRv",
    "outputId": "0ffb84b6-ffd2-4871-fd14-4c6aae2483f5",
    "scrolled": true
   },
   "outputs": [],
   "source": [
    "# code to retrieve existing json files with Zim Stock Data for updating\n",
    "open_json = pd.read_json('archive-single-file/open_price.json', orient = 'split')\n",
    "close_json = pd.read_json('archive-single-file/close_price.json', orient = 'split')\n",
    "vol_json = pd.read_json('archive-single-file/vol_traded.json', orient = 'split')"
   ]
  },
  {
   "cell_type": "code",
   "execution_count": 10,
   "metadata": {
    "colab": {
     "base_uri": "https://localhost:8080/",
     "height": 266
    },
    "execution": {
     "iopub.execute_input": "2025-02-03T15:36:56.814294Z",
     "iopub.status.busy": "2025-02-03T15:36:56.813885Z",
     "iopub.status.idle": "2025-02-03T15:37:43.800008Z",
     "shell.execute_reply": "2025-02-03T15:37:43.799288Z"
    },
    "id": "oXB2mwx-LKmE",
    "outputId": "e25323de-b0fe-4520-9869-02dda7996c73"
   },
   "outputs": [],
   "source": [
    "#this is the code that needs to run everyday\n",
    "def update_data():\n",
    "    \"\"\" this function updates the daily extracted data onto the existing dataframe\"\"\"\n",
    "    open_price = pd.concat([open_json, get_open_price()], axis=0) # Update the variables\n",
    "    close_price = pd.concat([close_json, get_close_price()], axis=0)\n",
    "    vol_traded = pd.concat([vol_json, get_vol_traded()], axis=0)\n",
    "    \n",
    "    return open_price, close_price, vol_traded"
   ]
  },
  {
   "cell_type": "code",
   "execution_count": null,
   "metadata": {
    "colab": {
     "base_uri": "https://localhost:8080/",
     "height": 266
    },
    "id": "wkX0GzJpMlP8",
    "outputId": "fec70af2-21c3-4946-df3e-118e28ce5983",
    "scrolled": true
   },
   "outputs": [],
   "source": [
    "def save_data(open_price: pd.DataFrame, close_price: pd.DataFrame, vol_traded: pd.DataFrame):\n",
    "    \"\"\" function to save updated dataframes as json files\"\"\"\n",
    "    # Save the DataFrames to JSON files with the timestamped directory\n",
    "    open_price.to_json('archive-single-file/open_price.json', orient='split', date_format='iso')\n",
    "    close_price.to_json('archive-single-file/close_price.json', orient='split', date_format='iso')\n",
    "    vol_traded.to_json('archive-single-file/vol_traded.json', orient='split', date_format='iso')\n",
    "\n",
    "save_data(update_data()[0], update_data()[1] , update_data()[2])"
   ]
  },
  {
   "cell_type": "code",
   "execution_count": 12,
   "metadata": {
    "execution": {
     "iopub.execute_input": "2025-02-03T15:37:43.839874Z",
     "iopub.status.busy": "2025-02-03T15:37:43.839656Z",
     "iopub.status.idle": "2025-02-03T15:37:43.842477Z",
     "shell.execute_reply": "2025-02-03T15:37:43.841959Z"
    }
   },
   "outputs": [],
   "source": []
  },
  {
   "cell_type": "code",
   "execution_count": null,
   "metadata": {
    "colab": {
     "base_uri": "https://localhost:8080/",
     "height": 245
    },
    "id": "0g7KmjyNM5Ow",
    "outputId": "35593e15-1d55-417c-986d-518ba88c1d9b"
   },
   "outputs": [],
   "source": []
  },
  {
   "cell_type": "code",
   "execution_count": null,
   "metadata": {},
   "outputs": [],
   "source": []
  }
 ],
 "metadata": {
  "colab": {
   "provenance": []
  },
  "kernelspec": {
   "display_name": "Python [conda env:base] *",
   "language": "python",
   "name": "conda-base-py"
  },
  "language_info": {
   "codemirror_mode": {
    "name": "ipython",
    "version": 3
   },
   "file_extension": ".py",
   "mimetype": "text/x-python",
   "name": "python",
   "nbconvert_exporter": "python",
   "pygments_lexer": "ipython3",
   "version": "3.12.7"
  }
 },
 "nbformat": 4,
 "nbformat_minor": 4
}
